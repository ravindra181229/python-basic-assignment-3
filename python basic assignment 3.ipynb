{
 "cells": [
  {
   "cell_type": "code",
   "execution_count": 19,
   "id": "c449b1ae",
   "metadata": {},
   "outputs": [
    {
     "data": {
      "text/plain": [
       "'the advantage is to group the codes that gets executed multiple times, or\\nto get rid to duplicate code'"
      ]
     },
     "execution_count": 19,
     "metadata": {},
     "output_type": "execute_result"
    }
   ],
   "source": [
    "#Q1\n",
    "'''the advantage is to group the codes that gets executed multiple times, or\n",
    "to get rid to duplicate code'''"
   ]
  },
  {
   "cell_type": "code",
   "execution_count": 20,
   "id": "71985d6f",
   "metadata": {},
   "outputs": [
    {
     "data": {
      "text/plain": [
       "'the code in the function runs when the fuction is called'"
      ]
     },
     "execution_count": 20,
     "metadata": {},
     "output_type": "execute_result"
    }
   ],
   "source": [
    "#Q2\n",
    "'''the code in the function runs when the fuction is called'''"
   ]
  },
  {
   "cell_type": "code",
   "execution_count": 21,
   "id": "f5f4477c",
   "metadata": {},
   "outputs": [
    {
     "data": {
      "text/plain": [
       "'def statement creates a function or\\ndef defines a function'"
      ]
     },
     "execution_count": 21,
     "metadata": {},
     "output_type": "execute_result"
    }
   ],
   "source": [
    "#Q3\n",
    "'''def statement creates a function or\n",
    "def defines a function'''"
   ]
  },
  {
   "cell_type": "code",
   "execution_count": 22,
   "id": "56afa2ab",
   "metadata": {},
   "outputs": [
    {
     "data": {
      "text/plain": [
       "'every function call has a return value and function is to show the results'"
      ]
     },
     "execution_count": 22,
     "metadata": {},
     "output_type": "execute_result"
    }
   ],
   "source": [
    "#Q4\n",
    "\"every function call has a return value and function is to show the results\""
   ]
  },
  {
   "cell_type": "code",
   "execution_count": 23,
   "id": "5ce896f9",
   "metadata": {},
   "outputs": [
    {
     "data": {
      "text/plain": [
       "'there is only one (1) global scope\\nand there are four (4) local scopes'"
      ]
     },
     "execution_count": 23,
     "metadata": {},
     "output_type": "execute_result"
    }
   ],
   "source": [
    "#Q5:\n",
    "'''there is only one (1) global scope\n",
    "and there are four (4) local scopes'''"
   ]
  },
  {
   "cell_type": "code",
   "execution_count": 24,
   "id": "09cbc8fe",
   "metadata": {},
   "outputs": [
    {
     "data": {
      "text/plain": [
       "'when the function call returns, the local scope is terminated and variables are forgotten'"
      ]
     },
     "execution_count": 24,
     "metadata": {},
     "output_type": "execute_result"
    }
   ],
   "source": [
    "#Q6\n",
    "\"when the function call returns, the local scope is terminated and variables are forgotten\""
   ]
  },
  {
   "cell_type": "code",
   "execution_count": 25,
   "id": "8c5e2ed4",
   "metadata": {},
   "outputs": [
    {
     "data": {
      "text/plain": [
       "'the return value shows the results or the output is the return value\\nyes,it is possible to have a return value in expression'"
      ]
     },
     "execution_count": 25,
     "metadata": {},
     "output_type": "execute_result"
    }
   ],
   "source": [
    "#Q7\n",
    "'''the return value shows the results or the output is the return value\n",
    "yes,it is possible to have a return value in expression'''"
   ]
  },
  {
   "cell_type": "code",
   "execution_count": 26,
   "id": "b6f8be00",
   "metadata": {},
   "outputs": [
    {
     "data": {
      "text/plain": [
       "'if a function does not have a return statement than the return value defaults to none value '"
      ]
     },
     "execution_count": 26,
     "metadata": {},
     "output_type": "execute_result"
    }
   ],
   "source": [
    "#Q8\n",
    "'''if a function does not have a return statement than the return value defaults to none value '''"
   ]
  },
  {
   "cell_type": "code",
   "execution_count": 27,
   "id": "84066ab3",
   "metadata": {},
   "outputs": [
    {
     "data": {
      "text/plain": [
       "'variables should be marked with global statement,than we can make function variable to refer global variable'"
      ]
     },
     "execution_count": 27,
     "metadata": {},
     "output_type": "execute_result"
    }
   ],
   "source": [
    "#Q9\n",
    "'variables should be marked with global statement,than we can make function variable to refer global variable'"
   ]
  },
  {
   "cell_type": "code",
   "execution_count": 28,
   "id": "a5020d11",
   "metadata": {},
   "outputs": [
    {
     "data": {
      "text/plain": [
       "'None type'"
      ]
     },
     "execution_count": 28,
     "metadata": {},
     "output_type": "execute_result"
    }
   ],
   "source": [
    "#Q10\n",
    "\"None type\""
   ]
  },
  {
   "cell_type": "code",
   "execution_count": 29,
   "id": "d7f68129",
   "metadata": {},
   "outputs": [
    {
     "data": {
      "text/plain": [
       "'it imports the module areallyourpetsnamedreic'"
      ]
     },
     "execution_count": 29,
     "metadata": {},
     "output_type": "execute_result"
    }
   ],
   "source": [
    "#Q11\n",
    "\"it imports the module areallyourpetsnamedreic\""
   ]
  },
  {
   "cell_type": "code",
   "execution_count": 30,
   "id": "5d3de9cc",
   "metadata": {},
   "outputs": [
    {
     "data": {
      "text/plain": [
       "'spam.bacon()'"
      ]
     },
     "execution_count": 30,
     "metadata": {},
     "output_type": "execute_result"
    }
   ],
   "source": [
    "#Q12\n",
    "\"spam.bacon()\""
   ]
  },
  {
   "cell_type": "code",
   "execution_count": 31,
   "id": "463d5dd6",
   "metadata": {},
   "outputs": [
    {
     "data": {
      "text/plain": [
       "'we can write the code in try and except clause if the code encounters an error'"
      ]
     },
     "execution_count": 31,
     "metadata": {},
     "output_type": "execute_result"
    }
   ],
   "source": [
    "#Q13\n",
    "\"we can write the code in try and except clause if the code encounters an error\""
   ]
  },
  {
   "cell_type": "code",
   "execution_count": 33,
   "id": "9e138051",
   "metadata": {},
   "outputs": [
    {
     "data": {
      "text/plain": [
       "'if a error occurs inside, a try block will cause code in the except block to execute\\nand except clause can handle error or display a message so the user can continue'"
      ]
     },
     "execution_count": 33,
     "metadata": {},
     "output_type": "execute_result"
    }
   ],
   "source": [
    "#Q14\n",
    "'''if a error occurs inside, a try block will cause code in the except block to execute\n",
    "and except clause can handle error or display a message so the user can continue'''"
   ]
  },
  {
   "cell_type": "code",
   "execution_count": null,
   "id": "194e6735",
   "metadata": {},
   "outputs": [],
   "source": []
  }
 ],
 "metadata": {
  "kernelspec": {
   "display_name": "Python 3",
   "language": "python",
   "name": "python3"
  },
  "language_info": {
   "codemirror_mode": {
    "name": "ipython",
    "version": 3
   },
   "file_extension": ".py",
   "mimetype": "text/x-python",
   "name": "python",
   "nbconvert_exporter": "python",
   "pygments_lexer": "ipython3",
   "version": "3.8.8"
  }
 },
 "nbformat": 4,
 "nbformat_minor": 5
}
